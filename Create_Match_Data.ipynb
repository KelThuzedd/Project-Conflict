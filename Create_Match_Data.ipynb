{
 "cells": [
  {
   "cell_type": "markdown",
   "source": [
    "## STEP 1: COLLECT DATA"
   ],
   "metadata": {
    "collapsed": false
   }
  },
  {
   "cell_type": "markdown",
   "source": [
    "#### Load libraries"
   ],
   "metadata": {
    "collapsed": false
   }
  },
  {
   "cell_type": "code",
   "execution_count": 2,
   "metadata": {
    "collapsed": true,
    "ExecuteTime": {
     "start_time": "2023-04-25T17:59:44.117683Z",
     "end_time": "2023-04-25T17:59:44.591415Z"
    }
   },
   "outputs": [],
   "source": [
    "import numpy as np\n",
    "import pandas as pd\n",
    "pd.options.display.float_format = \"{:.2f}\".format\n",
    "import matplotlib.pyplot as plt\n",
    "import seaborn as sns\n",
    "sns.set(style='darkgrid', context='talk')\n",
    "from sklearn.preprocessing import StandardScaler\n",
    "from sklearn.linear_model import LogisticRegression\n",
    "from sklearn.pipeline import Pipeline\n",
    "from sklearn.metrics import roc_auc_score, f1_score\n",
    "#from causalinference import CausalModel\n"
   ]
  },
  {
   "cell_type": "markdown",
   "source": [
    "#### Load data"
   ],
   "metadata": {
    "collapsed": false
   }
  },
  {
   "cell_type": "code",
   "execution_count": 9,
   "outputs": [
    {
     "data": {
      "text/plain": "           №                         Name          Reg_num  \\\n0          1                  ИНКАРТ, НАО 1030000000000.00   \n1          1                  ИНКАРТ, НАО 1030000000000.00   \n2          1             КАНГО ТРАНС, ООО 1080000000000.00   \n3          1             КАНГО ТРАНС, ООО 1080000000000.00   \n4          1  СОЮЗ СТРОЙ КОМПЛЕКТ-19, ООО 1150000000000.00   \n...      ...                          ...              ...   \n57397  10000                 ДЕ ЛАЙТ, ООО 1030000000000.00   \n57398  10000     НАША МЕБЕЛЬ ПРЕСТИЖ, ООО 1180000000000.00   \n57399  10000     НАША МЕБЕЛЬ ПРЕСТИЖ, ООО 1180000000000.00   \n57400  10000            НОРД ВАЙН, ООО ПО 1170000000000.00   \n57401  10000            НОРД ВАЙН, ООО ПО 1170000000000.00   \n\n                           Name_eng   Date       Nalog            Reion  \\\n0                       INKART, NAO  34522  7802067700  Санкт-Петербург   \n1                       INKART, NAO  34522  7802067700  Санкт-Петербург   \n2                  KANGO TRANS, LTD  39219  7813379162  Санкт-Петербург   \n3                  KANGO TRANS, LTD  39219  7813379162  Санкт-Петербург   \n4      SOYUZ STROI KOMPLEKT-19, OOO  41887  7814622130  Санкт-Петербург   \n...                             ...    ...         ...              ...   \n57397                  DE LAIT, OOO  37575  7813176451  Санкт-Петербург   \n57398     NASHA MEBEL PRESTIZH, OOO  43011  7814706415  Санкт-Петербург   \n57399     NASHA MEBEL PRESTIZH, OOO  43011  7814706415  Санкт-Петербург   \n57400             PA NORD WINE, LLC  42710  7811631183  Санкт-Петербург   \n57401             PA NORD WINE, LLC  42710  7811631183  Санкт-Петербург   \n\n                                                  Otrasl Kod_otrasl  \\\n0      Производство медицинских инструментов и оборуд...       32.5   \n1      Производство медицинских инструментов и оборуд...       32.5   \n2      Деятельность вспомогательная прочая, связанная...      52.29   \n3      Деятельность вспомогательная прочая, связанная...      52.29   \n4      Деятельность агентов, специализирующихся на оп...    46.18.3   \n...                                                  ...        ...   \n57397  Торговля оптовая лесоматериалами, строительным...      46.73   \n57398  Торговля розничная мебелью, осветительными при...      47.59   \n57399  Торговля розничная мебелью, осветительными при...      47.59   \n57400           Производство сидра и прочих плодовых вин      11.03   \n57401           Производство сидра и прочих плодовых вин      11.03   \n\n                                          Forma  ... Profit_pure  \\\n0              Непубличные акционерные общества  ... -1916000.00   \n1              Непубличные акционерные общества  ... -5206000.00   \n2      Общества с ограниченной ответственностью  ...   792000.00   \n3      Общества с ограниченной ответственностью  ...   138000.00   \n4      Общества с ограниченной ответственностью  ...  2027000.00   \n...                                         ...  ...         ...   \n57397  Общества с ограниченной ответственностью  ...  3348000.00   \n57398  Общества с ограниченной ответственностью  ...  3040000.00   \n57399  Общества с ограниченной ответственностью  ...  6486000.00   \n57400  Общества с ограниченной ответственностью  ...   169000.00   \n57401  Общества с ограниченной ответственностью  ...    69000.00   \n\n       Period_dolg_dnu  Period_zapas_dni  Period_deb_dolg_dni  Koef_autonomi  \\\n0                75.74             91.50                   42           0.55   \n1                56.26             62.00                   39           0.35   \n2                10.73              0.30                   54           0.85   \n3                10.92              0.20                   77           0.89   \n4                 8.62              4.70                    5           0.29   \n...                ...               ...                  ...            ...   \n57397            83.00             24.70                   28           0.28   \n57398             5.74              7.80                    3           0.76   \n57399            20.41             33.90                   10           0.87   \n57400             3.18              6.30                   18           0.85   \n57401            31.33             12.40                   46           0.43   \n\n       Returns  Clr  Cfl  Cal  Long_obiaz  \n0        -0.03 1.99 0.79 0.06         NaN  \n1        -0.07 1.33 0.59 0.08         NaN  \n2         0.02 6.57 6.57 0.36         NaN  \n3         0.01 9.19 9.14 0.63         NaN  \n4         0.01 1.42 0.68 0.15         NaN  \n...        ...  ...  ...  ...         ...  \n57397     0.04 1.39 0.68 0.17         NaN  \n57398     0.07 4.10 2.34 1.70         NaN  \n57399     0.24 7.67 5.36 4.81         NaN  \n57400     0.01 6.43 4.60 1.07         NaN  \n57401     0.01 1.73 1.51 0.30         NaN  \n\n[57402 rows x 34 columns]",
      "text/html": "<div>\n<style scoped>\n    .dataframe tbody tr th:only-of-type {\n        vertical-align: middle;\n    }\n\n    .dataframe tbody tr th {\n        vertical-align: top;\n    }\n\n    .dataframe thead th {\n        text-align: right;\n    }\n</style>\n<table border=\"1\" class=\"dataframe\">\n  <thead>\n    <tr style=\"text-align: right;\">\n      <th></th>\n      <th>№</th>\n      <th>Name</th>\n      <th>Reg_num</th>\n      <th>Name_eng</th>\n      <th>Date</th>\n      <th>Nalog</th>\n      <th>Reion</th>\n      <th>Otrasl</th>\n      <th>Kod_otrasl</th>\n      <th>Forma</th>\n      <th>...</th>\n      <th>Profit_pure</th>\n      <th>Period_dolg_dnu</th>\n      <th>Period_zapas_dni</th>\n      <th>Period_deb_dolg_dni</th>\n      <th>Koef_autonomi</th>\n      <th>Returns</th>\n      <th>Clr</th>\n      <th>Cfl</th>\n      <th>Cal</th>\n      <th>Long_obiaz</th>\n    </tr>\n  </thead>\n  <tbody>\n    <tr>\n      <th>0</th>\n      <td>1</td>\n      <td>ИНКАРТ, НАО</td>\n      <td>1030000000000.00</td>\n      <td>INKART, NAO</td>\n      <td>34522</td>\n      <td>7802067700</td>\n      <td>Санкт-Петербург</td>\n      <td>Производство медицинских инструментов и оборуд...</td>\n      <td>32.5</td>\n      <td>Непубличные акционерные общества</td>\n      <td>...</td>\n      <td>-1916000.00</td>\n      <td>75.74</td>\n      <td>91.50</td>\n      <td>42</td>\n      <td>0.55</td>\n      <td>-0.03</td>\n      <td>1.99</td>\n      <td>0.79</td>\n      <td>0.06</td>\n      <td>NaN</td>\n    </tr>\n    <tr>\n      <th>1</th>\n      <td>1</td>\n      <td>ИНКАРТ, НАО</td>\n      <td>1030000000000.00</td>\n      <td>INKART, NAO</td>\n      <td>34522</td>\n      <td>7802067700</td>\n      <td>Санкт-Петербург</td>\n      <td>Производство медицинских инструментов и оборуд...</td>\n      <td>32.5</td>\n      <td>Непубличные акционерные общества</td>\n      <td>...</td>\n      <td>-5206000.00</td>\n      <td>56.26</td>\n      <td>62.00</td>\n      <td>39</td>\n      <td>0.35</td>\n      <td>-0.07</td>\n      <td>1.33</td>\n      <td>0.59</td>\n      <td>0.08</td>\n      <td>NaN</td>\n    </tr>\n    <tr>\n      <th>2</th>\n      <td>1</td>\n      <td>КАНГО ТРАНС, ООО</td>\n      <td>1080000000000.00</td>\n      <td>KANGO TRANS, LTD</td>\n      <td>39219</td>\n      <td>7813379162</td>\n      <td>Санкт-Петербург</td>\n      <td>Деятельность вспомогательная прочая, связанная...</td>\n      <td>52.29</td>\n      <td>Общества с ограниченной ответственностью</td>\n      <td>...</td>\n      <td>792000.00</td>\n      <td>10.73</td>\n      <td>0.30</td>\n      <td>54</td>\n      <td>0.85</td>\n      <td>0.02</td>\n      <td>6.57</td>\n      <td>6.57</td>\n      <td>0.36</td>\n      <td>NaN</td>\n    </tr>\n    <tr>\n      <th>3</th>\n      <td>1</td>\n      <td>КАНГО ТРАНС, ООО</td>\n      <td>1080000000000.00</td>\n      <td>KANGO TRANS, LTD</td>\n      <td>39219</td>\n      <td>7813379162</td>\n      <td>Санкт-Петербург</td>\n      <td>Деятельность вспомогательная прочая, связанная...</td>\n      <td>52.29</td>\n      <td>Общества с ограниченной ответственностью</td>\n      <td>...</td>\n      <td>138000.00</td>\n      <td>10.92</td>\n      <td>0.20</td>\n      <td>77</td>\n      <td>0.89</td>\n      <td>0.01</td>\n      <td>9.19</td>\n      <td>9.14</td>\n      <td>0.63</td>\n      <td>NaN</td>\n    </tr>\n    <tr>\n      <th>4</th>\n      <td>1</td>\n      <td>СОЮЗ СТРОЙ КОМПЛЕКТ-19, ООО</td>\n      <td>1150000000000.00</td>\n      <td>SOYUZ STROI KOMPLEKT-19, OOO</td>\n      <td>41887</td>\n      <td>7814622130</td>\n      <td>Санкт-Петербург</td>\n      <td>Деятельность агентов, специализирующихся на оп...</td>\n      <td>46.18.3</td>\n      <td>Общества с ограниченной ответственностью</td>\n      <td>...</td>\n      <td>2027000.00</td>\n      <td>8.62</td>\n      <td>4.70</td>\n      <td>5</td>\n      <td>0.29</td>\n      <td>0.01</td>\n      <td>1.42</td>\n      <td>0.68</td>\n      <td>0.15</td>\n      <td>NaN</td>\n    </tr>\n    <tr>\n      <th>...</th>\n      <td>...</td>\n      <td>...</td>\n      <td>...</td>\n      <td>...</td>\n      <td>...</td>\n      <td>...</td>\n      <td>...</td>\n      <td>...</td>\n      <td>...</td>\n      <td>...</td>\n      <td>...</td>\n      <td>...</td>\n      <td>...</td>\n      <td>...</td>\n      <td>...</td>\n      <td>...</td>\n      <td>...</td>\n      <td>...</td>\n      <td>...</td>\n      <td>...</td>\n      <td>...</td>\n    </tr>\n    <tr>\n      <th>57397</th>\n      <td>10000</td>\n      <td>ДЕ ЛАЙТ, ООО</td>\n      <td>1030000000000.00</td>\n      <td>DE LAIT, OOO</td>\n      <td>37575</td>\n      <td>7813176451</td>\n      <td>Санкт-Петербург</td>\n      <td>Торговля оптовая лесоматериалами, строительным...</td>\n      <td>46.73</td>\n      <td>Общества с ограниченной ответственностью</td>\n      <td>...</td>\n      <td>3348000.00</td>\n      <td>83.00</td>\n      <td>24.70</td>\n      <td>28</td>\n      <td>0.28</td>\n      <td>0.04</td>\n      <td>1.39</td>\n      <td>0.68</td>\n      <td>0.17</td>\n      <td>NaN</td>\n    </tr>\n    <tr>\n      <th>57398</th>\n      <td>10000</td>\n      <td>НАША МЕБЕЛЬ ПРЕСТИЖ, ООО</td>\n      <td>1180000000000.00</td>\n      <td>NASHA MEBEL PRESTIZH, OOO</td>\n      <td>43011</td>\n      <td>7814706415</td>\n      <td>Санкт-Петербург</td>\n      <td>Торговля розничная мебелью, осветительными при...</td>\n      <td>47.59</td>\n      <td>Общества с ограниченной ответственностью</td>\n      <td>...</td>\n      <td>3040000.00</td>\n      <td>5.74</td>\n      <td>7.80</td>\n      <td>3</td>\n      <td>0.76</td>\n      <td>0.07</td>\n      <td>4.10</td>\n      <td>2.34</td>\n      <td>1.70</td>\n      <td>NaN</td>\n    </tr>\n    <tr>\n      <th>57399</th>\n      <td>10000</td>\n      <td>НАША МЕБЕЛЬ ПРЕСТИЖ, ООО</td>\n      <td>1180000000000.00</td>\n      <td>NASHA MEBEL PRESTIZH, OOO</td>\n      <td>43011</td>\n      <td>7814706415</td>\n      <td>Санкт-Петербург</td>\n      <td>Торговля розничная мебелью, осветительными при...</td>\n      <td>47.59</td>\n      <td>Общества с ограниченной ответственностью</td>\n      <td>...</td>\n      <td>6486000.00</td>\n      <td>20.41</td>\n      <td>33.90</td>\n      <td>10</td>\n      <td>0.87</td>\n      <td>0.24</td>\n      <td>7.67</td>\n      <td>5.36</td>\n      <td>4.81</td>\n      <td>NaN</td>\n    </tr>\n    <tr>\n      <th>57400</th>\n      <td>10000</td>\n      <td>НОРД ВАЙН, ООО ПО</td>\n      <td>1170000000000.00</td>\n      <td>PA NORD WINE, LLC</td>\n      <td>42710</td>\n      <td>7811631183</td>\n      <td>Санкт-Петербург</td>\n      <td>Производство сидра и прочих плодовых вин</td>\n      <td>11.03</td>\n      <td>Общества с ограниченной ответственностью</td>\n      <td>...</td>\n      <td>169000.00</td>\n      <td>3.18</td>\n      <td>6.30</td>\n      <td>18</td>\n      <td>0.85</td>\n      <td>0.01</td>\n      <td>6.43</td>\n      <td>4.60</td>\n      <td>1.07</td>\n      <td>NaN</td>\n    </tr>\n    <tr>\n      <th>57401</th>\n      <td>10000</td>\n      <td>НОРД ВАЙН, ООО ПО</td>\n      <td>1170000000000.00</td>\n      <td>PA NORD WINE, LLC</td>\n      <td>42710</td>\n      <td>7811631183</td>\n      <td>Санкт-Петербург</td>\n      <td>Производство сидра и прочих плодовых вин</td>\n      <td>11.03</td>\n      <td>Общества с ограниченной ответственностью</td>\n      <td>...</td>\n      <td>69000.00</td>\n      <td>31.33</td>\n      <td>12.40</td>\n      <td>46</td>\n      <td>0.43</td>\n      <td>0.01</td>\n      <td>1.73</td>\n      <td>1.51</td>\n      <td>0.30</td>\n      <td>NaN</td>\n    </tr>\n  </tbody>\n</table>\n<p>57402 rows × 34 columns</p>\n</div>"
     },
     "execution_count": 9,
     "metadata": {},
     "output_type": "execute_result"
    }
   ],
   "source": [
    "df = pd.read_csv(r'data\\ZXC.csv')#Загрузка csv файла в переменную df\n",
    "df['Conflict'] = df['Conflict']==1# Делаем значение тру фалс в столбце конфликт\n",
    "df['Size_company']=df['Size_company']==0# Делаем значение тру фалс в столбце размер компании\n",
    "df['T']=df['T']==0# Делаем значение тру фалс в столбце Т\n",
    "df"
   ],
   "metadata": {
    "collapsed": false,
    "ExecuteTime": {
     "start_time": "2023-04-25T18:15:48.292067Z",
     "end_time": "2023-04-25T18:15:49.479385Z"
    }
   }
  },
  {
   "cell_type": "markdown",
   "source": [
    "#### Prepare data"
   ],
   "metadata": {
    "collapsed": false
   }
  },
  {
   "cell_type": "code",
   "execution_count": 11,
   "outputs": [],
   "source": [
    "df=df.loc[(df['Returns'] >= -10)] #Оставляем значение рентабельности больше -10\n",
    "df = df.filter(['Conflict', 'Size_company', 'T','Capital','Clr','Returns','Workers','Osn_sred','Zapas','Deb_dolg','Active','Sr_obiaz','Sobs_capital','Renue','Sebestoist_sales','Profit','Profit_pure','Period_dolg_dnu','Period_zapas_dni','Period_deb_dolg_dni','Koef_autonomi','Cfl','Cal']).dropna().reset_index(drop=True)#Оставляем только указанные столбцы и убираем пропуски"
   ],
   "metadata": {
    "collapsed": false,
    "ExecuteTime": {
     "start_time": "2023-04-25T18:15:56.081072Z",
     "end_time": "2023-04-25T18:15:56.163557Z"
    }
   }
  },
  {
   "cell_type": "code",
   "execution_count": 12,
   "outputs": [
    {
     "data": {
      "text/plain": "            count  mean  std   min  25%  50%  75%  max\nConflict                                              \nFalse    32219.00  0.06 0.10 -0.50 0.01 0.03 0.08 0.50\nTrue       233.00  0.05 0.09 -0.38 0.01 0.02 0.06 0.49",
      "text/html": "<div>\n<style scoped>\n    .dataframe tbody tr th:only-of-type {\n        vertical-align: middle;\n    }\n\n    .dataframe tbody tr th {\n        vertical-align: top;\n    }\n\n    .dataframe thead th {\n        text-align: right;\n    }\n</style>\n<table border=\"1\" class=\"dataframe\">\n  <thead>\n    <tr style=\"text-align: right;\">\n      <th></th>\n      <th>count</th>\n      <th>mean</th>\n      <th>std</th>\n      <th>min</th>\n      <th>25%</th>\n      <th>50%</th>\n      <th>75%</th>\n      <th>max</th>\n    </tr>\n    <tr>\n      <th>Conflict</th>\n      <th></th>\n      <th></th>\n      <th></th>\n      <th></th>\n      <th></th>\n      <th></th>\n      <th></th>\n      <th></th>\n    </tr>\n  </thead>\n  <tbody>\n    <tr>\n      <th>False</th>\n      <td>32219.00</td>\n      <td>0.06</td>\n      <td>0.10</td>\n      <td>-0.50</td>\n      <td>0.01</td>\n      <td>0.03</td>\n      <td>0.08</td>\n      <td>0.50</td>\n    </tr>\n    <tr>\n      <th>True</th>\n      <td>233.00</td>\n      <td>0.05</td>\n      <td>0.09</td>\n      <td>-0.38</td>\n      <td>0.01</td>\n      <td>0.02</td>\n      <td>0.06</td>\n      <td>0.49</td>\n    </tr>\n  </tbody>\n</table>\n</div>"
     },
     "execution_count": 12,
     "metadata": {},
     "output_type": "execute_result"
    }
   ],
   "source": [
    "Conflict = 'Conflict'\n",
    "Returns = 'Returns'\n",
    "df.groupby(Conflict)[Returns].describe()#Выводит табличку снизу"
   ],
   "metadata": {
    "collapsed": false,
    "ExecuteTime": {
     "start_time": "2023-04-25T18:15:57.631711Z",
     "end_time": "2023-04-25T18:15:57.680936Z"
    }
   }
  },
  {
   "cell_type": "markdown",
   "source": [
    "#### Create plot (Company year)"
   ],
   "metadata": {
    "collapsed": false
   }
  },
  {
   "cell_type": "markdown",
   "source": [
    "C_COLOUR = 'grey'\n",
    "T_COLOUR = 'green'\n",
    "C_LABEL = 'False_Conflict'\n",
    "T_LABEL = 'Conflict'\n",
    "sns.kdeplot(data=df[~df[Conflict]], x='Company_year', shade=True,\n",
    "            color=C_COLOUR, label=C_LABEL)\n",
    "sns.kdeplot(data=df[df[Conflict]], x='Company_year', shade=True,\n",
    "            color=T_COLOUR, label=T_LABEL)\n",
    "plt.legend();"
   ],
   "metadata": {
    "collapsed": false
   }
  },
  {
   "cell_type": "markdown",
   "source": [
    "The Conflict group has more younger company compared to the False_Conflict"
   ],
   "metadata": {
    "collapsed": false
   }
  },
  {
   "cell_type": "markdown",
   "source": [
    "#### Create bar plot (Size company)"
   ],
   "metadata": {
    "collapsed": false
   }
  },
  {
   "cell_type": "code",
   "execution_count": 13,
   "outputs": [],
   "source": [
    "F_COLOUR = 'magenta'\n",
    "M_COLOUR = 'blue'\n",
    "F_LABEL = 'Macro'\n",
    "M_LABEL = 'Micro'\n",
    "\n",
    "size_company = 100 * pd.crosstab(df[Conflict].replace({True: T_LABEL,\n",
    "                                                        False: C_LABEL}),\n",
    "                                 df['Size_company'].replace({True: 'Macro',\n",
    "                                                             False: 'Micro'}),\n",
    "                                 normalize='index')\n",
    "size_company['All'] = 100"
   ],
   "metadata": {
    "collapsed": false,
    "ExecuteTime": {
     "start_time": "2023-04-25T18:16:08.309655Z",
     "end_time": "2023-04-25T18:16:08.366174Z"
    }
   }
  },
  {
   "cell_type": "code",
   "execution_count": 14,
   "outputs": [
    {
     "data": {
      "text/plain": "<Figure size 360x288 with 1 Axes>",
      "image/png": "[encoded data removed]"
     },
     "metadata": {},
     "output_type": "display_data"
    }
   ],
   "source": [
    "\n",
    "plt.figure(figsize=(5, 4))\n",
    "sns.barplot(data=size_company, x=size_company.index.astype(str),  y=\"All\",\n",
    "            color=M_COLOUR, label=M_LABEL)\n",
    "sns.barplot(data=size_company, x=size_company.index.astype(str),  y='Micro',\n",
    "            color=F_COLOUR, label=F_LABEL)\n",
    "plt.legend(loc='center', bbox_to_anchor=(1.3, 0.8))\n",
    "plt.xlabel('')\n",
    "plt.ylabel('Percentage');"
   ],
   "metadata": {
    "collapsed": false,
    "ExecuteTime": {
     "start_time": "2023-04-25T18:16:10.228949Z",
     "end_time": "2023-04-25T18:16:10.446745Z"
    }
   }
  },
  {
   "cell_type": "markdown",
   "source": [
    "More micro company in conflict group"
   ],
   "metadata": {
    "collapsed": false
   }
  },
  {
   "cell_type": "markdown",
   "source": [
    "## STEP 2: ESTIMATE PROPENSITY SCORES\n"
   ],
   "metadata": {
    "collapsed": false
   }
  },
  {
   "cell_type": "markdown",
   "source": [
    "Once we have collected the data, we can build the propensity model predicting the probability of receiving the treatment given the confounders. Typically, logistic regression is used for this classification model. Let’s build a propensity model:"
   ],
   "metadata": {
    "collapsed": false
   }
  },
  {
   "cell_type": "markdown",
   "source": [
    "#### Build a descriptive model"
   ],
   "metadata": {
    "collapsed": false
   }
  },
  {
   "cell_type": "code",
   "execution_count": 15,
   "outputs": [
    {
     "data": {
      "text/plain": "Pipeline(steps=[('scaler', StandardScaler()),\n                ('logistic_classifier', LogisticRegression())])"
     },
     "execution_count": 15,
     "metadata": {},
     "output_type": "execute_result"
    }
   ],
   "source": [
    "t = df[Conflict]\n",
    "X = pd.get_dummies(df.drop(columns=[Returns, Conflict]))\n",
    "pipe = Pipeline([\n",
    "    ('scaler', StandardScaler()),\n",
    "    ('logistic_classifier', LogisticRegression())\n",
    "])#Задаем параметры конвеера\n",
    "pipe.fit(X, t)#Обучаем модель (запускаем конвеер)"
   ],
   "metadata": {
    "collapsed": false,
    "ExecuteTime": {
     "start_time": "2023-04-25T18:16:14.453115Z",
     "end_time": "2023-04-25T18:16:15.342088Z"
    }
   }
  },
  {
   "cell_type": "markdown",
   "source": [
    "#### Predict"
   ],
   "metadata": {
    "collapsed": false
   }
  },
  {
   "cell_type": "code",
   "execution_count": 16,
   "outputs": [
    {
     "data": {
      "text/plain": "0       0.01\n1       0.01\n2       0.01\n3       0.01\n4       0.01\n        ... \n32447   0.01\n32448   0.01\n32449   0.01\n32450   0.01\n32451   0.01\nName: proba, Length: 32452, dtype: float64"
     },
     "execution_count": 16,
     "metadata": {},
     "output_type": "execute_result"
    }
   ],
   "source": [
    "threshold = 0.5\n",
    "df['proba'] = pipe.predict_proba(X)[:,1]#Записываем предсказание в столбец proba\n",
    "df['logit'] = df['proba'].apply(lambda p: np.log(p/(1-p)))#На основе proba считаем столбец logit\n",
    "df['pred'] = np.where(df['proba']>=threshold, 1, 0)#Создаем столбец Pred и по предсказанию записываем туда 1 или 0\n",
    "df['proba']"
   ],
   "metadata": {
    "collapsed": false,
    "ExecuteTime": {
     "start_time": "2023-04-25T18:16:16.388761Z",
     "end_time": "2023-04-25T18:16:16.551237Z"
    }
   }
  },
  {
   "cell_type": "markdown",
   "source": [
    "#### Оценка модели"
   ],
   "metadata": {
    "collapsed": false
   }
  },
  {
   "cell_type": "code",
   "execution_count": 17,
   "outputs": [
    {
     "name": "stdout",
     "output_type": "stream",
     "text": [
      "Accuracy: 0.9928, ROC AUC: 0.5920, F1-score: 0.0000\n"
     ]
    },
    {
     "data": {
      "text/plain": "pred      False\nConflict       \nFalse     32219\nTrue        233",
      "text/html": "<div>\n<style scoped>\n    .dataframe tbody tr th:only-of-type {\n        vertical-align: middle;\n    }\n\n    .dataframe tbody tr th {\n        vertical-align: top;\n    }\n\n    .dataframe thead th {\n        text-align: right;\n    }\n</style>\n<table border=\"1\" class=\"dataframe\">\n  <thead>\n    <tr style=\"text-align: right;\">\n      <th>pred</th>\n      <th>False</th>\n    </tr>\n    <tr>\n      <th>Conflict</th>\n      <th></th>\n    </tr>\n  </thead>\n  <tbody>\n    <tr>\n      <th>False</th>\n      <td>32219</td>\n    </tr>\n    <tr>\n      <th>True</th>\n      <td>233</td>\n    </tr>\n  </tbody>\n</table>\n</div>"
     },
     "execution_count": 17,
     "metadata": {},
     "output_type": "execute_result"
    }
   ],
   "source": [
    "print(f\"Accuracy: {np.mean(df[Conflict]==df['pred']):.4f},\\\n",
    " ROC AUC: {roc_auc_score(df[Conflict], df['proba']):.4f},\\\n",
    " F1-score: {f1_score(df[Conflict], df['pred']):.4f}\")#Считаем точность предсказания (в нашем исследовании не нужно)\n",
    "# Visualise confusion matrix\n",
    "pd.crosstab(df[Conflict], df['pred']).rename(columns={0: False,\n",
    "                                                       1:True})"
   ],
   "metadata": {
    "collapsed": false,
    "ExecuteTime": {
     "start_time": "2023-04-25T18:16:18.126890Z",
     "end_time": "2023-04-25T18:16:18.183108Z"
    }
   }
  },
  {
   "cell_type": "markdown",
   "source": [
    "#### We will inspect the distribution of the propensity score and its logit transformation by the conflict groups:"
   ],
   "metadata": {
    "collapsed": false
   }
  },
  {
   "cell_type": "code",
   "execution_count": 18,
   "outputs": [
    {
     "data": {
      "text/plain": "<Figure size 720x288 with 2 Axes>",
      "image/png": "[encoded data removed]"
     },
     "metadata": {},
     "output_type": "display_data"
    }
   ],
   "source": [
    "fig, ax = plt.subplots(1,2, figsize=(10,4))\n",
    "# Visualise propensity\n",
    "sns.kdeplot(data=df[~df[Conflict]], x='proba', shade=True,\n",
    "            color=C_COLOUR, label=C_LABEL, ax=ax[0])\n",
    "sns.kdeplot(data=df[df[Conflict]], x='proba', shade=True,\n",
    "            color=T_COLOUR, label=T_LABEL, ax=ax[0])\n",
    "ax[0].set_title('Propensity')\n",
    "ax[0].legend(loc='center', bbox_to_anchor=(1.1, -0.3))\n",
    "# Visualise logit propensity\n",
    "sns.kdeplot(data=df[~df[Conflict]], x='logit', shade=True,\n",
    "            color=C_COLOUR, label=C_LABEL, ax=ax[1])\n",
    "sns.kdeplot(data=df[df[Conflict]], x='logit', shade=True,\n",
    "            color=T_COLOUR, label=T_LABEL, ax=ax[1])\n",
    "ax[1].set_title('Logit Propensity')\n",
    "ax[1].set_ylabel(\"\");"
   ],
   "metadata": {
    "collapsed": false,
    "ExecuteTime": {
     "start_time": "2023-04-25T18:16:24.139490Z",
     "end_time": "2023-04-25T18:16:25.188831Z"
    }
   }
  },
  {
   "cell_type": "markdown",
   "source": [
    "## STEP 3: MATCH RECORDS"
   ],
   "metadata": {
    "collapsed": false
   }
  },
  {
   "cell_type": "code",
   "execution_count": 19,
   "outputs": [
    {
     "data": {
      "text/plain": "       Conflict  Size_company      T    Clr  Returns  Workers     Osn_sred  \\\n16145      True          True  False 210.50     0.43    59.00  96021000.00   \n9741       True          True  False   4.87     0.29    10.00   9129000.00   \n28145      True         False   True  11.23     0.46    37.00   1426000.00   \n9740       True          True   True   3.35     0.24    10.00   9414000.00   \n11657      True          True  False  11.17     0.35    10.00  19363000.00   \n...         ...           ...    ...    ...      ...      ...          ...   \n1601       True         False  False   2.42     0.01   479.00 180306000.00   \n1388       True         False  False   1.01     0.00   563.00  16277000.00   \n1387       True         False   True   1.01     0.00   587.00  13391000.00   \n4455       True         False  False   0.72     0.07    41.00  51014000.00   \n4454       True         False   True   0.49     0.08    47.00 136956000.00   \n\n             Zapas      Deb_dolg      Active  ...  Period_zapas_dni  \\\n16145  36134000.00    9543000.00  1074654000  ...             57.40   \n9741     499000.00   90535000.00   107491000  ...             14.80   \n28145    752000.00    7278000.00    70804000  ...              2.10   \n9740    1173000.00   79926000.00    97716000  ...             18.30   \n11657      5000.00   22944000.00    59487000  ...              0.10   \n...            ...           ...         ...  ...               ...   \n1601   28074000.00  166434000.00   401769000  ...             15.60   \n1388   17113000.00  429455000.00   511800000  ...              9.60   \n1387   20188000.00  466806000.00   541296000  ...              8.10   \n4455  325192000.00 2687878000.00  4742466000  ...            335.40   \n4454  510407000.00 2082202000.00  5327494000  ...            359.10   \n\n       Period_deb_dolg_dni  Koef_autonomi    Cfl    Cal  proba  logit  pred  \\\n16145                   61           1.00 202.73 200.57   0.00  -5.34     0   \n9741                  1513           0.81   4.85   0.36   0.01  -5.29     0   \n28145                   28           0.91  11.11   9.93   0.01  -5.28     0   \n9740                  1732           0.73   3.30   0.27   0.01  -5.28     0   \n11657                  446           0.94  11.17   4.78   0.01  -5.27     0   \n...                    ...            ...    ...    ...    ...    ...   ...   \n1601                    87           0.49   2.09   0.07   0.07  -2.54     0   \n1388                   230           0.43   0.97   0.08   0.16  -1.66     0   \n1387                   244           0.32   0.97   0.08   0.18  -1.51     0   \n4455                  1915           0.03   0.65   0.06   0.32  -0.74     0   \n4454                  1358           0.01   0.40   0.00   0.34  -0.64     0   \n\n         match  distance  \n16145 11551.00     -0.00  \n9741  26972.00     -0.00  \n28145 19076.00     -0.00  \n9740  16284.00     -0.00  \n11657 17161.00     -0.00  \n...        ...       ...  \n1601   5830.00     -0.03  \n1388   5737.00     -0.38  \n1387   3368.00     -0.02  \n4455   4533.00     -0.38  \n4454    701.00     -0.40  \n\n[233 rows x 27 columns]",
      "text/html": "<div>\n<style scoped>\n    .dataframe tbody tr th:only-of-type {\n        vertical-align: middle;\n    }\n\n    .dataframe tbody tr th {\n        vertical-align: top;\n    }\n\n    .dataframe thead th {\n        text-align: right;\n    }\n</style>\n<table border=\"1\" class=\"dataframe\">\n  <thead>\n    <tr style=\"text-align: right;\">\n      <th></th>\n      <th>Conflict</th>\n      <th>Size_company</th>\n      <th>T</th>\n      <th>Clr</th>\n      <th>Returns</th>\n      <th>Workers</th>\n      <th>Osn_sred</th>\n      <th>Zapas</th>\n      <th>Deb_dolg</th>\n      <th>Active</th>\n      <th>...</th>\n      <th>Period_zapas_dni</th>\n      <th>Period_deb_dolg_dni</th>\n      <th>Koef_autonomi</th>\n      <th>Cfl</th>\n      <th>Cal</th>\n      <th>proba</th>\n      <th>logit</th>\n      <th>pred</th>\n      <th>match</th>\n      <th>distance</th>\n    </tr>\n  </thead>\n  <tbody>\n    <tr>\n      <th>16145</th>\n      <td>True</td>\n      <td>True</td>\n      <td>False</td>\n      <td>210.50</td>\n      <td>0.43</td>\n      <td>59.00</td>\n      <td>96021000.00</td>\n      <td>36134000.00</td>\n      <td>9543000.00</td>\n      <td>1074654000</td>\n      <td>...</td>\n      <td>57.40</td>\n      <td>61</td>\n      <td>1.00</td>\n      <td>202.73</td>\n      <td>200.57</td>\n      <td>0.00</td>\n      <td>-5.34</td>\n      <td>0</td>\n      <td>11551.00</td>\n      <td>-0.00</td>\n    </tr>\n    <tr>\n      <th>9741</th>\n      <td>True</td>\n      <td>True</td>\n      <td>False</td>\n      <td>4.87</td>\n      <td>0.29</td>\n      <td>10.00</td>\n      <td>9129000.00</td>\n      <td>499000.00</td>\n      <td>90535000.00</td>\n      <td>107491000</td>\n      <td>...</td>\n      <td>14.80</td>\n      <td>1513</td>\n      <td>0.81</td>\n      <td>4.85</td>\n      <td>0.36</td>\n      <td>0.01</td>\n      <td>-5.29</td>\n      <td>0</td>\n      <td>26972.00</td>\n      <td>-0.00</td>\n    </tr>\n    <tr>\n      <th>28145</th>\n      <td>True</td>\n      <td>False</td>\n      <td>True</td>\n      <td>11.23</td>\n      <td>0.46</td>\n      <td>37.00</td>\n      <td>1426000.00</td>\n      <td>752000.00</td>\n      <td>7278000.00</td>\n      <td>70804000</td>\n      <td>...</td>\n      <td>2.10</td>\n      <td>28</td>\n      <td>0.91</td>\n      <td>11.11</td>\n      <td>9.93</td>\n      <td>0.01</td>\n      <td>-5.28</td>\n      <td>0</td>\n      <td>19076.00</td>\n      <td>-0.00</td>\n    </tr>\n    <tr>\n      <th>9740</th>\n      <td>True</td>\n      <td>True</td>\n      <td>True</td>\n      <td>3.35</td>\n      <td>0.24</td>\n      <td>10.00</td>\n      <td>9414000.00</td>\n      <td>1173000.00</td>\n      <td>79926000.00</td>\n      <td>97716000</td>\n      <td>...</td>\n      <td>18.30</td>\n      <td>1732</td>\n      <td>0.73</td>\n      <td>3.30</td>\n      <td>0.27</td>\n      <td>0.01</td>\n      <td>-5.28</td>\n      <td>0</td>\n      <td>16284.00</td>\n      <td>-0.00</td>\n    </tr>\n    <tr>\n      <th>11657</th>\n      <td>True</td>\n      <td>True</td>\n      <td>False</td>\n      <td>11.17</td>\n      <td>0.35</td>\n      <td>10.00</td>\n      <td>19363000.00</td>\n      <td>5000.00</td>\n      <td>22944000.00</td>\n      <td>59487000</td>\n      <td>...</td>\n      <td>0.10</td>\n      <td>446</td>\n      <td>0.94</td>\n      <td>11.17</td>\n      <td>4.78</td>\n      <td>0.01</td>\n      <td>-5.27</td>\n      <td>0</td>\n      <td>17161.00</td>\n      <td>-0.00</td>\n    </tr>\n    <tr>\n      <th>...</th>\n      <td>...</td>\n      <td>...</td>\n      <td>...</td>\n      <td>...</td>\n      <td>...</td>\n      <td>...</td>\n      <td>...</td>\n      <td>...</td>\n      <td>...</td>\n      <td>...</td>\n      <td>...</td>\n      <td>...</td>\n      <td>...</td>\n      <td>...</td>\n      <td>...</td>\n      <td>...</td>\n      <td>...</td>\n      <td>...</td>\n      <td>...</td>\n      <td>...</td>\n      <td>...</td>\n    </tr>\n    <tr>\n      <th>1601</th>\n      <td>True</td>\n      <td>False</td>\n      <td>False</td>\n      <td>2.42</td>\n      <td>0.01</td>\n      <td>479.00</td>\n      <td>180306000.00</td>\n      <td>28074000.00</td>\n      <td>166434000.00</td>\n      <td>401769000</td>\n      <td>...</td>\n      <td>15.60</td>\n      <td>87</td>\n      <td>0.49</td>\n      <td>2.09</td>\n      <td>0.07</td>\n      <td>0.07</td>\n      <td>-2.54</td>\n      <td>0</td>\n      <td>5830.00</td>\n      <td>-0.03</td>\n    </tr>\n    <tr>\n      <th>1388</th>\n      <td>True</td>\n      <td>False</td>\n      <td>False</td>\n      <td>1.01</td>\n      <td>0.00</td>\n      <td>563.00</td>\n      <td>16277000.00</td>\n      <td>17113000.00</td>\n      <td>429455000.00</td>\n      <td>511800000</td>\n      <td>...</td>\n      <td>9.60</td>\n      <td>230</td>\n      <td>0.43</td>\n      <td>0.97</td>\n      <td>0.08</td>\n      <td>0.16</td>\n      <td>-1.66</td>\n      <td>0</td>\n      <td>5737.00</td>\n      <td>-0.38</td>\n    </tr>\n    <tr>\n      <th>1387</th>\n      <td>True</td>\n      <td>False</td>\n      <td>True</td>\n      <td>1.01</td>\n      <td>0.00</td>\n      <td>587.00</td>\n      <td>13391000.00</td>\n      <td>20188000.00</td>\n      <td>466806000.00</td>\n      <td>541296000</td>\n      <td>...</td>\n      <td>8.10</td>\n      <td>244</td>\n      <td>0.32</td>\n      <td>0.97</td>\n      <td>0.08</td>\n      <td>0.18</td>\n      <td>-1.51</td>\n      <td>0</td>\n      <td>3368.00</td>\n      <td>-0.02</td>\n    </tr>\n    <tr>\n      <th>4455</th>\n      <td>True</td>\n      <td>False</td>\n      <td>False</td>\n      <td>0.72</td>\n      <td>0.07</td>\n      <td>41.00</td>\n      <td>51014000.00</td>\n      <td>325192000.00</td>\n      <td>2687878000.00</td>\n      <td>4742466000</td>\n      <td>...</td>\n      <td>335.40</td>\n      <td>1915</td>\n      <td>0.03</td>\n      <td>0.65</td>\n      <td>0.06</td>\n      <td>0.32</td>\n      <td>-0.74</td>\n      <td>0</td>\n      <td>4533.00</td>\n      <td>-0.38</td>\n    </tr>\n    <tr>\n      <th>4454</th>\n      <td>True</td>\n      <td>False</td>\n      <td>True</td>\n      <td>0.49</td>\n      <td>0.08</td>\n      <td>47.00</td>\n      <td>136956000.00</td>\n      <td>510407000.00</td>\n      <td>2082202000.00</td>\n      <td>5327494000</td>\n      <td>...</td>\n      <td>359.10</td>\n      <td>1358</td>\n      <td>0.01</td>\n      <td>0.40</td>\n      <td>0.00</td>\n      <td>0.34</td>\n      <td>-0.64</td>\n      <td>0</td>\n      <td>701.00</td>\n      <td>-0.40</td>\n    </tr>\n  </tbody>\n</table>\n<p>233 rows × 27 columns</p>\n</div>"
     },
     "execution_count": 19,
     "metadata": {},
     "output_type": "execute_result"
    }
   ],
   "source": [
    "# Sort by 'logit' so it's quicker to find match\n",
    "df.sort_values('logit', inplace=True)\n",
    "n = len(df)-1\n",
    "\n",
    "for i, (ind, row) in enumerate(df.iterrows()):\n",
    "    # Match the most similar untreated record to each treated record\n",
    "    above = df.iloc[i:]\n",
    "    control_above = above[~above[Conflict]]\n",
    "    match_above = control_above.iloc[0]\n",
    "\n",
    "    distance_above = match_above['logit'] - row['logit']\n",
    "\n",
    "\n",
    "    if row[Conflict]:\n",
    "            # Find the closest untreated match among records sorted\n",
    "            # higher. 'equal_or_above would' be more accurate but\n",
    "            # used 'above' for brevity\n",
    "            if i<n:\n",
    "                above = df.iloc[i:]\n",
    "                control_above = above[~above[Conflict]]\n",
    "                match_above = control_above.iloc[0]\n",
    "                distance_above = match_above['logit'] - row['logit']\n",
    "                df.loc[ind, 'match'] = match_above.name\n",
    "                df.loc[ind, 'distance'] = distance_above\n",
    "\n",
    "            # Find the closest untreated match among records sorted\n",
    "            # lower. 'equal_or_below' would be more accurate but\n",
    "            # used 'below' for brevity\n",
    "            if i>0:\n",
    "                below = df.iloc[:i-1]\n",
    "                control_below = below[~below[Conflict]]\n",
    "                match_below = control_below.iloc[-1]\n",
    "                distance_below = match_below['logit'] - row['logit']\n",
    "                if i==n:\n",
    "                    df.loc[ind, 'match'] = match_below.name\n",
    "                    df.loc[ind, 'distance'] = distance_below\n",
    "\n",
    "                # Only overwrite if match_below is closer than match_above\n",
    "                elif distance_below<distance_above:\n",
    "                    df.loc[ind, 'match'] = match_below.name\n",
    "                    df.loc[ind, 'distance'] = distance_below\n",
    "df[df[Conflict]]"
   ],
   "metadata": {
    "collapsed": false,
    "ExecuteTime": {
     "start_time": "2023-04-25T18:16:27.966389Z",
     "end_time": "2023-04-25T18:20:02.830818Z"
    }
   }
  },
  {
   "cell_type": "markdown",
   "source": [
    "####  We will now create a new data set called matched_df that contains the original Conflict group and a new control group:"
   ],
   "metadata": {
    "collapsed": false
   }
  },
  {
   "cell_type": "code",
   "execution_count": 20,
   "outputs": [
    {
     "data": {
      "text/plain": "     Conflict  Size_company      T    Clr  Returns  Workers      Osn_sred  \\\n0        True          True  False 210.50     0.43    59.00   96021000.00   \n1        True          True  False   4.87     0.29    10.00    9129000.00   \n2        True         False   True  11.23     0.46    37.00    1426000.00   \n3        True          True   True   3.35     0.24    10.00    9414000.00   \n4        True          True  False  11.17     0.35    10.00   19363000.00   \n..        ...           ...    ...    ...      ...      ...           ...   \n461     False         False  False   1.67     0.09   557.00   29255000.00   \n462     False         False   True   0.47     0.18     9.00    7148000.00   \n463     False         False   True   1.00     0.01     3.00      72000.00   \n464     False         False   True   1.81     0.06    91.00  276023000.00   \n465     False         False  False   0.43    -0.48   185.00 1023763000.00   \n\n           Zapas      Deb_dolg      Active  ...  Period_zapas_dni  \\\n0    36134000.00    9543000.00  1074654000  ...             57.40   \n1      499000.00   90535000.00   107491000  ...             14.80   \n2      752000.00    7278000.00    70804000  ...              2.10   \n3     1173000.00   79926000.00    97716000  ...             18.30   \n4        5000.00   22944000.00    59487000  ...              0.10   \n..           ...           ...         ...  ...               ...   \n461   1447000.00   60074000.00   124225000  ...              1.10   \n462  18587000.00 1798460000.00  6664411000  ...            218.90   \n463 147183000.00 3089508000.00  3342141000  ...            201.30   \n464 174252000.00 3170407000.00  6713771000  ...             57.60   \n465   7689000.00   81965000.00  1427456000  ...              3.40   \n\n     Period_deb_dolg_dni  Koef_autonomi    Cfl    Cal  proba  logit  pred  \\\n0                     61           1.00 202.73 200.57   0.00  -5.34     0   \n1                   1513           0.81   4.85   0.36   0.01  -5.29     0   \n2                     28           0.91  11.11   9.93   0.01  -5.28     0   \n3                   1732           0.73   3.30   0.27   0.01  -5.28     0   \n4                    446           0.94  11.17   4.78   0.01  -5.27     0   \n..                   ...            ...    ...    ...    ...    ...   ...   \n461                   53           0.45   1.65   0.52   0.07  -2.56     0   \n462                14283           0.01   0.47   0.11   0.12  -2.04     0   \n463                 3625           0.00   0.96   0.03   0.18  -1.53     0   \n464                 1754           0.03   1.76   0.86   0.25  -1.12     0   \n465                   33           0.59   0.42   0.27   0.26  -1.04     0   \n\n       match  distance  \n0   11551.00     -0.00  \n1   26972.00     -0.00  \n2   19076.00     -0.00  \n3   16284.00     -0.00  \n4   17161.00     -0.00  \n..       ...       ...  \n461      NaN       NaN  \n462      NaN       NaN  \n463      NaN       NaN  \n464      NaN       NaN  \n465      NaN       NaN  \n\n[466 rows x 27 columns]",
      "text/html": "<div>\n<style scoped>\n    .dataframe tbody tr th:only-of-type {\n        vertical-align: middle;\n    }\n\n    .dataframe tbody tr th {\n        vertical-align: top;\n    }\n\n    .dataframe thead th {\n        text-align: right;\n    }\n</style>\n<table border=\"1\" class=\"dataframe\">\n  <thead>\n    <tr style=\"text-align: right;\">\n      <th></th>\n      <th>Conflict</th>\n      <th>Size_company</th>\n      <th>T</th>\n      <th>Clr</th>\n      <th>Returns</th>\n      <th>Workers</th>\n      <th>Osn_sred</th>\n      <th>Zapas</th>\n      <th>Deb_dolg</th>\n      <th>Active</th>\n      <th>...</th>\n      <th>Period_zapas_dni</th>\n      <th>Period_deb_dolg_dni</th>\n      <th>Koef_autonomi</th>\n      <th>Cfl</th>\n      <th>Cal</th>\n      <th>proba</th>\n      <th>logit</th>\n      <th>pred</th>\n      <th>match</th>\n      <th>distance</th>\n    </tr>\n  </thead>\n  <tbody>\n    <tr>\n      <th>0</th>\n      <td>True</td>\n      <td>True</td>\n      <td>False</td>\n      <td>210.50</td>\n      <td>0.43</td>\n      <td>59.00</td>\n      <td>96021000.00</td>\n      <td>36134000.00</td>\n      <td>9543000.00</td>\n      <td>1074654000</td>\n      <td>...</td>\n      <td>57.40</td>\n      <td>61</td>\n      <td>1.00</td>\n      <td>202.73</td>\n      <td>200.57</td>\n      <td>0.00</td>\n      <td>-5.34</td>\n      <td>0</td>\n      <td>11551.00</td>\n      <td>-0.00</td>\n    </tr>\n    <tr>\n      <th>1</th>\n      <td>True</td>\n      <td>True</td>\n      <td>False</td>\n      <td>4.87</td>\n      <td>0.29</td>\n      <td>10.00</td>\n      <td>9129000.00</td>\n      <td>499000.00</td>\n      <td>90535000.00</td>\n      <td>107491000</td>\n      <td>...</td>\n      <td>14.80</td>\n      <td>1513</td>\n      <td>0.81</td>\n      <td>4.85</td>\n      <td>0.36</td>\n      <td>0.01</td>\n      <td>-5.29</td>\n      <td>0</td>\n      <td>26972.00</td>\n      <td>-0.00</td>\n    </tr>\n    <tr>\n      <th>2</th>\n      <td>True</td>\n      <td>False</td>\n      <td>True</td>\n      <td>11.23</td>\n      <td>0.46</td>\n      <td>37.00</td>\n      <td>1426000.00</td>\n      <td>752000.00</td>\n      <td>7278000.00</td>\n      <td>70804000</td>\n      <td>...</td>\n      <td>2.10</td>\n      <td>28</td>\n      <td>0.91</td>\n      <td>11.11</td>\n      <td>9.93</td>\n      <td>0.01</td>\n      <td>-5.28</td>\n      <td>0</td>\n      <td>19076.00</td>\n      <td>-0.00</td>\n    </tr>\n    <tr>\n      <th>3</th>\n      <td>True</td>\n      <td>True</td>\n      <td>True</td>\n      <td>3.35</td>\n      <td>0.24</td>\n      <td>10.00</td>\n      <td>9414000.00</td>\n      <td>1173000.00</td>\n      <td>79926000.00</td>\n      <td>97716000</td>\n      <td>...</td>\n      <td>18.30</td>\n      <td>1732</td>\n      <td>0.73</td>\n      <td>3.30</td>\n      <td>0.27</td>\n      <td>0.01</td>\n      <td>-5.28</td>\n      <td>0</td>\n      <td>16284.00</td>\n      <td>-0.00</td>\n    </tr>\n    <tr>\n      <th>4</th>\n      <td>True</td>\n      <td>True</td>\n      <td>False</td>\n      <td>11.17</td>\n      <td>0.35</td>\n      <td>10.00</td>\n      <td>19363000.00</td>\n      <td>5000.00</td>\n      <td>22944000.00</td>\n      <td>59487000</td>\n      <td>...</td>\n      <td>0.10</td>\n      <td>446</td>\n      <td>0.94</td>\n      <td>11.17</td>\n      <td>4.78</td>\n      <td>0.01</td>\n      <td>-5.27</td>\n      <td>0</td>\n      <td>17161.00</td>\n      <td>-0.00</td>\n    </tr>\n    <tr>\n      <th>...</th>\n      <td>...</td>\n      <td>...</td>\n      <td>...</td>\n      <td>...</td>\n      <td>...</td>\n      <td>...</td>\n      <td>...</td>\n      <td>...</td>\n      <td>...</td>\n      <td>...</td>\n      <td>...</td>\n      <td>...</td>\n      <td>...</td>\n      <td>...</td>\n      <td>...</td>\n      <td>...</td>\n      <td>...</td>\n      <td>...</td>\n      <td>...</td>\n      <td>...</td>\n      <td>...</td>\n    </tr>\n    <tr>\n      <th>461</th>\n      <td>False</td>\n      <td>False</td>\n      <td>False</td>\n      <td>1.67</td>\n      <td>0.09</td>\n      <td>557.00</td>\n      <td>29255000.00</td>\n      <td>1447000.00</td>\n      <td>60074000.00</td>\n      <td>124225000</td>\n      <td>...</td>\n      <td>1.10</td>\n      <td>53</td>\n      <td>0.45</td>\n      <td>1.65</td>\n      <td>0.52</td>\n      <td>0.07</td>\n      <td>-2.56</td>\n      <td>0</td>\n      <td>NaN</td>\n      <td>NaN</td>\n    </tr>\n    <tr>\n      <th>462</th>\n      <td>False</td>\n      <td>False</td>\n      <td>True</td>\n      <td>0.47</td>\n      <td>0.18</td>\n      <td>9.00</td>\n      <td>7148000.00</td>\n      <td>18587000.00</td>\n      <td>1798460000.00</td>\n      <td>6664411000</td>\n      <td>...</td>\n      <td>218.90</td>\n      <td>14283</td>\n      <td>0.01</td>\n      <td>0.47</td>\n      <td>0.11</td>\n      <td>0.12</td>\n      <td>-2.04</td>\n      <td>0</td>\n      <td>NaN</td>\n      <td>NaN</td>\n    </tr>\n    <tr>\n      <th>463</th>\n      <td>False</td>\n      <td>False</td>\n      <td>True</td>\n      <td>1.00</td>\n      <td>0.01</td>\n      <td>3.00</td>\n      <td>72000.00</td>\n      <td>147183000.00</td>\n      <td>3089508000.00</td>\n      <td>3342141000</td>\n      <td>...</td>\n      <td>201.30</td>\n      <td>3625</td>\n      <td>0.00</td>\n      <td>0.96</td>\n      <td>0.03</td>\n      <td>0.18</td>\n      <td>-1.53</td>\n      <td>0</td>\n      <td>NaN</td>\n      <td>NaN</td>\n    </tr>\n    <tr>\n      <th>464</th>\n      <td>False</td>\n      <td>False</td>\n      <td>True</td>\n      <td>1.81</td>\n      <td>0.06</td>\n      <td>91.00</td>\n      <td>276023000.00</td>\n      <td>174252000.00</td>\n      <td>3170407000.00</td>\n      <td>6713771000</td>\n      <td>...</td>\n      <td>57.60</td>\n      <td>1754</td>\n      <td>0.03</td>\n      <td>1.76</td>\n      <td>0.86</td>\n      <td>0.25</td>\n      <td>-1.12</td>\n      <td>0</td>\n      <td>NaN</td>\n      <td>NaN</td>\n    </tr>\n    <tr>\n      <th>465</th>\n      <td>False</td>\n      <td>False</td>\n      <td>False</td>\n      <td>0.43</td>\n      <td>-0.48</td>\n      <td>185.00</td>\n      <td>1023763000.00</td>\n      <td>7689000.00</td>\n      <td>81965000.00</td>\n      <td>1427456000</td>\n      <td>...</td>\n      <td>3.40</td>\n      <td>33</td>\n      <td>0.59</td>\n      <td>0.42</td>\n      <td>0.27</td>\n      <td>0.26</td>\n      <td>-1.04</td>\n      <td>0</td>\n      <td>NaN</td>\n      <td>NaN</td>\n    </tr>\n  </tbody>\n</table>\n<p>466 rows × 27 columns</p>\n</div>"
     },
     "execution_count": 20,
     "metadata": {},
     "output_type": "execute_result"
    }
   ],
   "source": [
    "#Мэтчим выборки\n",
    "indices = df[df['match'].notna()].index. \\\n",
    "    append(pd.Index(df.loc[df['match'].notna(), 'match']))\n",
    "matched_df = df.loc[indices].reset_index(drop=True)\n",
    "matched_df"
   ],
   "metadata": {
    "collapsed": false,
    "ExecuteTime": {
     "start_time": "2023-04-25T18:20:28.107700Z",
     "end_time": "2023-04-25T18:20:28.180580Z"
    }
   }
  },
  {
   "cell_type": "markdown",
   "source": [
    "This new control group should be more similar to the Conflict group according to the confounding factors. Let’s find out if that’s the case in the next section."
   ],
   "metadata": {
    "collapsed": false
   }
  },
  {
   "cell_type": "markdown",
   "source": [
    "## STEP 4: EVALUATE THE QUALITY OF THE MATCHED RECORDS\n"
   ],
   "metadata": {
    "collapsed": false
   }
  },
  {
   "cell_type": "markdown",
   "source": [
    "It’s time to evaluate how good the matching was. Let’s inspect if the groups look more comparable in terms of the confounders:\n",
    "\n"
   ],
   "metadata": {
    "collapsed": false
   }
  },
  {
   "cell_type": "code",
   "execution_count": 22,
   "outputs": [
    {
     "data": {
      "text/plain": "       Size_company_t    T_t      Zapas_t  Clr_t  Returns_t    match  \\\n16145            True  False  36134000.00 210.50       0.43 11551.00   \n9741             True  False    499000.00   4.87       0.29 26972.00   \n28145           False   True    752000.00  11.23       0.46 19076.00   \n9740             True   True   1173000.00   3.35       0.24 16284.00   \n11657            True  False      5000.00  11.17       0.35 17161.00   \n...               ...    ...          ...    ...        ...      ...   \n1601            False  False  28074000.00   2.42       0.01  5830.00   \n1388            False  False  17113000.00   1.01       0.00  5737.00   \n1387            False   True  20188000.00   1.01       0.00  3368.00   \n4455            False  False 325192000.00   0.72       0.07  4533.00   \n4454            False   True 510407000.00   0.49       0.08   701.00   \n\n       Size_company_c    T_c      Zapas_c  Clr_c  Returns_c  \n16145            True   True  18745000.00  56.17       0.19  \n9741             True  False    453000.00  30.09       0.27  \n28145            True  False    440000.00   7.63       0.11  \n9740             True  False    463000.00  11.18       0.00  \n11657           False  False   6509000.00   5.52       0.30  \n...               ...    ...          ...    ...        ...  \n1601            False  False   1447000.00   1.67       0.09  \n1388            False   True  18587000.00   0.47       0.18  \n1387            False   True 147183000.00   1.00       0.01  \n4455            False   True 174252000.00   1.81       0.06  \n4454            False  False   7689000.00   0.43      -0.48  \n\n[233 rows x 11 columns]",
      "text/html": "<div>\n<style scoped>\n    .dataframe tbody tr th:only-of-type {\n        vertical-align: middle;\n    }\n\n    .dataframe tbody tr th {\n        vertical-align: top;\n    }\n\n    .dataframe thead th {\n        text-align: right;\n    }\n</style>\n<table border=\"1\" class=\"dataframe\">\n  <thead>\n    <tr style=\"text-align: right;\">\n      <th></th>\n      <th>Size_company_t</th>\n      <th>T_t</th>\n      <th>Zapas_t</th>\n      <th>Clr_t</th>\n      <th>Returns_t</th>\n      <th>match</th>\n      <th>Size_company_c</th>\n      <th>T_c</th>\n      <th>Zapas_c</th>\n      <th>Clr_c</th>\n      <th>Returns_c</th>\n    </tr>\n  </thead>\n  <tbody>\n    <tr>\n      <th>16145</th>\n      <td>True</td>\n      <td>False</td>\n      <td>36134000.00</td>\n      <td>210.50</td>\n      <td>0.43</td>\n      <td>11551.00</td>\n      <td>True</td>\n      <td>True</td>\n      <td>18745000.00</td>\n      <td>56.17</td>\n      <td>0.19</td>\n    </tr>\n    <tr>\n      <th>9741</th>\n      <td>True</td>\n      <td>False</td>\n      <td>499000.00</td>\n      <td>4.87</td>\n      <td>0.29</td>\n      <td>26972.00</td>\n      <td>True</td>\n      <td>False</td>\n      <td>453000.00</td>\n      <td>30.09</td>\n      <td>0.27</td>\n    </tr>\n    <tr>\n      <th>28145</th>\n      <td>False</td>\n      <td>True</td>\n      <td>752000.00</td>\n      <td>11.23</td>\n      <td>0.46</td>\n      <td>19076.00</td>\n      <td>True</td>\n      <td>False</td>\n      <td>440000.00</td>\n      <td>7.63</td>\n      <td>0.11</td>\n    </tr>\n    <tr>\n      <th>9740</th>\n      <td>True</td>\n      <td>True</td>\n      <td>1173000.00</td>\n      <td>3.35</td>\n      <td>0.24</td>\n      <td>16284.00</td>\n      <td>True</td>\n      <td>False</td>\n      <td>463000.00</td>\n      <td>11.18</td>\n      <td>0.00</td>\n    </tr>\n    <tr>\n      <th>11657</th>\n      <td>True</td>\n      <td>False</td>\n      <td>5000.00</td>\n      <td>11.17</td>\n      <td>0.35</td>\n      <td>17161.00</td>\n      <td>False</td>\n      <td>False</td>\n      <td>6509000.00</td>\n      <td>5.52</td>\n      <td>0.30</td>\n    </tr>\n    <tr>\n      <th>...</th>\n      <td>...</td>\n      <td>...</td>\n      <td>...</td>\n      <td>...</td>\n      <td>...</td>\n      <td>...</td>\n      <td>...</td>\n      <td>...</td>\n      <td>...</td>\n      <td>...</td>\n      <td>...</td>\n    </tr>\n    <tr>\n      <th>1601</th>\n      <td>False</td>\n      <td>False</td>\n      <td>28074000.00</td>\n      <td>2.42</td>\n      <td>0.01</td>\n      <td>5830.00</td>\n      <td>False</td>\n      <td>False</td>\n      <td>1447000.00</td>\n      <td>1.67</td>\n      <td>0.09</td>\n    </tr>\n    <tr>\n      <th>1388</th>\n      <td>False</td>\n      <td>False</td>\n      <td>17113000.00</td>\n      <td>1.01</td>\n      <td>0.00</td>\n      <td>5737.00</td>\n      <td>False</td>\n      <td>True</td>\n      <td>18587000.00</td>\n      <td>0.47</td>\n      <td>0.18</td>\n    </tr>\n    <tr>\n      <th>1387</th>\n      <td>False</td>\n      <td>True</td>\n      <td>20188000.00</td>\n      <td>1.01</td>\n      <td>0.00</td>\n      <td>3368.00</td>\n      <td>False</td>\n      <td>True</td>\n      <td>147183000.00</td>\n      <td>1.00</td>\n      <td>0.01</td>\n    </tr>\n    <tr>\n      <th>4455</th>\n      <td>False</td>\n      <td>False</td>\n      <td>325192000.00</td>\n      <td>0.72</td>\n      <td>0.07</td>\n      <td>4533.00</td>\n      <td>False</td>\n      <td>True</td>\n      <td>174252000.00</td>\n      <td>1.81</td>\n      <td>0.06</td>\n    </tr>\n    <tr>\n      <th>4454</th>\n      <td>False</td>\n      <td>True</td>\n      <td>510407000.00</td>\n      <td>0.49</td>\n      <td>0.08</td>\n      <td>701.00</td>\n      <td>False</td>\n      <td>False</td>\n      <td>7689000.00</td>\n      <td>0.43</td>\n      <td>-0.48</td>\n    </tr>\n  </tbody>\n</table>\n<p>233 rows × 11 columns</p>\n</div>"
     },
     "execution_count": 22,
     "metadata": {},
     "output_type": "execute_result"
    }
   ],
   "source": [
    "COLUMNS = ['Size_company','T','Zapas','Clr', Returns]\n",
    "matches = pd.merge(df.loc[df[Conflict], COLUMNS+['match']],\n",
    "                   df[COLUMNS], left_on='match',\n",
    "                   right_index=True,\n",
    "                   how='left', suffixes=('_t', '_c'))\n",
    "matches"
   ],
   "metadata": {
    "collapsed": false,
    "ExecuteTime": {
     "start_time": "2023-04-25T18:24:18.609112Z",
     "end_time": "2023-04-25T18:24:18.681381Z"
    }
   }
  },
  {
   "cell_type": "markdown",
   "source": [
    "#### Let’s now check the distribution:"
   ],
   "metadata": {
    "collapsed": false
   }
  },
  {
   "cell_type": "code",
   "execution_count": 24,
   "outputs": [
    {
     "name": "stdout",
     "output_type": "stream",
     "text": [
      "logit | Before matching\n"
     ]
    },
    {
     "data": {
      "text/plain": "            count  mean  std    min   25%   50%   75%   max\nConflict                                                   \nFalse    32219.00 -5.00 0.52 -47.21 -5.14 -5.05 -4.94 -0.27\nTrue       233.00 -4.81 0.64  -5.34 -5.13 -4.99 -4.77 -0.64",
      "text/html": "<div>\n<style scoped>\n    .dataframe tbody tr th:only-of-type {\n        vertical-align: middle;\n    }\n\n    .dataframe tbody tr th {\n        vertical-align: top;\n    }\n\n    .dataframe thead th {\n        text-align: right;\n    }\n</style>\n<table border=\"1\" class=\"dataframe\">\n  <thead>\n    <tr style=\"text-align: right;\">\n      <th></th>\n      <th>count</th>\n      <th>mean</th>\n      <th>std</th>\n      <th>min</th>\n      <th>25%</th>\n      <th>50%</th>\n      <th>75%</th>\n      <th>max</th>\n    </tr>\n    <tr>\n      <th>Conflict</th>\n      <th></th>\n      <th></th>\n      <th></th>\n      <th></th>\n      <th></th>\n      <th></th>\n      <th></th>\n      <th></th>\n    </tr>\n  </thead>\n  <tbody>\n    <tr>\n      <th>False</th>\n      <td>32219.00</td>\n      <td>-5.00</td>\n      <td>0.52</td>\n      <td>-47.21</td>\n      <td>-5.14</td>\n      <td>-5.05</td>\n      <td>-4.94</td>\n      <td>-0.27</td>\n    </tr>\n    <tr>\n      <th>True</th>\n      <td>233.00</td>\n      <td>-4.81</td>\n      <td>0.64</td>\n      <td>-5.34</td>\n      <td>-5.13</td>\n      <td>-4.99</td>\n      <td>-4.77</td>\n      <td>-0.64</td>\n    </tr>\n  </tbody>\n</table>\n</div>"
     },
     "metadata": {},
     "output_type": "display_data"
    },
    {
     "name": "stdout",
     "output_type": "stream",
     "text": [
      "logit | After matching\n"
     ]
    },
    {
     "data": {
      "text/plain": "          count  mean  std   min   25%   50%   75%   max\nConflict                                                \nFalse    233.00 -4.82 0.61 -5.34 -5.13 -4.99 -4.77 -1.04\nTrue     233.00 -4.81 0.64 -5.34 -5.13 -4.99 -4.77 -0.64",
      "text/html": "<div>\n<style scoped>\n    .dataframe tbody tr th:only-of-type {\n        vertical-align: middle;\n    }\n\n    .dataframe tbody tr th {\n        vertical-align: top;\n    }\n\n    .dataframe thead th {\n        text-align: right;\n    }\n</style>\n<table border=\"1\" class=\"dataframe\">\n  <thead>\n    <tr style=\"text-align: right;\">\n      <th></th>\n      <th>count</th>\n      <th>mean</th>\n      <th>std</th>\n      <th>min</th>\n      <th>25%</th>\n      <th>50%</th>\n      <th>75%</th>\n      <th>max</th>\n    </tr>\n    <tr>\n      <th>Conflict</th>\n      <th></th>\n      <th></th>\n      <th></th>\n      <th></th>\n      <th></th>\n      <th></th>\n      <th></th>\n      <th></th>\n    </tr>\n  </thead>\n  <tbody>\n    <tr>\n      <th>False</th>\n      <td>233.00</td>\n      <td>-4.82</td>\n      <td>0.61</td>\n      <td>-5.34</td>\n      <td>-5.13</td>\n      <td>-4.99</td>\n      <td>-4.77</td>\n      <td>-1.04</td>\n    </tr>\n    <tr>\n      <th>True</th>\n      <td>233.00</td>\n      <td>-4.81</td>\n      <td>0.64</td>\n      <td>-5.34</td>\n      <td>-5.13</td>\n      <td>-4.99</td>\n      <td>-4.77</td>\n      <td>-0.64</td>\n    </tr>\n  </tbody>\n</table>\n</div>"
     },
     "metadata": {},
     "output_type": "display_data"
    },
    {
     "name": "stdout",
     "output_type": "stream",
     "text": [
      "Clr | Before matching\n"
     ]
    },
    {
     "data": {
      "text/plain": "            count  mean   std  min  25%  50%  75%     max\nConflict                                                 \nFalse    32219.00  5.08 68.22 0.00 1.05 1.41 2.91 7033.50\nTrue       233.00  4.88 16.62 0.08 1.05 1.29 2.42  210.50",
      "text/html": "<div>\n<style scoped>\n    .dataframe tbody tr th:only-of-type {\n        vertical-align: middle;\n    }\n\n    .dataframe tbody tr th {\n        vertical-align: top;\n    }\n\n    .dataframe thead th {\n        text-align: right;\n    }\n</style>\n<table border=\"1\" class=\"dataframe\">\n  <thead>\n    <tr style=\"text-align: right;\">\n      <th></th>\n      <th>count</th>\n      <th>mean</th>\n      <th>std</th>\n      <th>min</th>\n      <th>25%</th>\n      <th>50%</th>\n      <th>75%</th>\n      <th>max</th>\n    </tr>\n    <tr>\n      <th>Conflict</th>\n      <th></th>\n      <th></th>\n      <th></th>\n      <th></th>\n      <th></th>\n      <th></th>\n      <th></th>\n      <th></th>\n    </tr>\n  </thead>\n  <tbody>\n    <tr>\n      <th>False</th>\n      <td>32219.00</td>\n      <td>5.08</td>\n      <td>68.22</td>\n      <td>0.00</td>\n      <td>1.05</td>\n      <td>1.41</td>\n      <td>2.91</td>\n      <td>7033.50</td>\n    </tr>\n    <tr>\n      <th>True</th>\n      <td>233.00</td>\n      <td>4.88</td>\n      <td>16.62</td>\n      <td>0.08</td>\n      <td>1.05</td>\n      <td>1.29</td>\n      <td>2.42</td>\n      <td>210.50</td>\n    </tr>\n  </tbody>\n</table>\n</div>"
     },
     "metadata": {},
     "output_type": "display_data"
    },
    {
     "name": "stdout",
     "output_type": "stream",
     "text": [
      "Clr | After matching\n"
     ]
    },
    {
     "data": {
      "text/plain": "          count  mean   std  min  25%  50%  75%    max\nConflict                                              \nFalse    233.00  4.11 11.51 0.24 1.04 1.41 2.56 134.95\nTrue     233.00  4.88 16.62 0.08 1.05 1.29 2.42 210.50",
      "text/html": "<div>\n<style scoped>\n    .dataframe tbody tr th:only-of-type {\n        vertical-align: middle;\n    }\n\n    .dataframe tbody tr th {\n        vertical-align: top;\n    }\n\n    .dataframe thead th {\n        text-align: right;\n    }\n</style>\n<table border=\"1\" class=\"dataframe\">\n  <thead>\n    <tr style=\"text-align: right;\">\n      <th></th>\n      <th>count</th>\n      <th>mean</th>\n      <th>std</th>\n      <th>min</th>\n      <th>25%</th>\n      <th>50%</th>\n      <th>75%</th>\n      <th>max</th>\n    </tr>\n    <tr>\n      <th>Conflict</th>\n      <th></th>\n      <th></th>\n      <th></th>\n      <th></th>\n      <th></th>\n      <th></th>\n      <th></th>\n      <th></th>\n    </tr>\n  </thead>\n  <tbody>\n    <tr>\n      <th>False</th>\n      <td>233.00</td>\n      <td>4.11</td>\n      <td>11.51</td>\n      <td>0.24</td>\n      <td>1.04</td>\n      <td>1.41</td>\n      <td>2.56</td>\n      <td>134.95</td>\n    </tr>\n    <tr>\n      <th>True</th>\n      <td>233.00</td>\n      <td>4.88</td>\n      <td>16.62</td>\n      <td>0.08</td>\n      <td>1.05</td>\n      <td>1.29</td>\n      <td>2.42</td>\n      <td>210.50</td>\n    </tr>\n  </tbody>\n</table>\n</div>"
     },
     "metadata": {},
     "output_type": "display_data"
    }
   ],
   "source": [
    "#Сравниваем показатели до мэтча и после\n",
    "for var in ['logit', 'Clr']:\n",
    "    print(f\"{var} | Before matching\")\n",
    "    display(df.groupby(Conflict)[var].describe())\n",
    "    print(f\"{var} | After matching\")\n",
    "    display(matched_df.groupby(Conflict)[var].describe())"
   ],
   "metadata": {
    "collapsed": false,
    "ExecuteTime": {
     "start_time": "2023-04-25T18:33:41.350322Z",
     "end_time": "2023-04-25T18:33:41.440937Z"
    }
   }
  },
  {
   "cell_type": "markdown",
   "source": [
    "The distribution looks more similar between the groups now after the matching"
   ],
   "metadata": {
    "collapsed": false
   }
  },
  {
   "cell_type": "markdown",
   "source": [
    "####  Let’s visualize the distributions:"
   ],
   "metadata": {
    "collapsed": false
   }
  },
  {
   "cell_type": "markdown",
   "source": [
    "#Рисуем графики\n",
    "for var in ['logit', 'Company_year']:\n",
    "    fig, ax = plt.subplots(1,2,figsize=(10,4))\n",
    "    # Visualise original distribution\n",
    "    sns.kdeplot(data=df[~df[Conflict]], x=var, shade=True,\n",
    "                color=C_COLOUR, label=C_LABEL, ax=ax[0])\n",
    "    sns.kdeplot(data=df[df[Conflict]], x=var, shade=True,\n",
    "                color=T_COLOUR, label=T_LABEL, ax=ax[0])\n",
    "    ax[0].set_title('Before matching')\n",
    "\n",
    "    # Visualise new distribution\n",
    "    sns.kdeplot(data=matched_df[~matched_df[Conflict]], x=var,\n",
    "                shade=True, color=C_COLOUR, label=C_LABEL, ax=ax[1])\n",
    "    sns.kdeplot(data=matched_df[matched_df[Conflict]], x=var,\n",
    "                shade=True, color=T_COLOUR, label=T_LABEL, ax=ax[1])\n",
    "    ax[1].set_title('After matching')\n",
    "    ax[1].set_ylabel(\"\")\n",
    "    plt.tight_layout()\n",
    "ax[0].legend(loc='center', bbox_to_anchor=(1.1, -0.3));"
   ],
   "metadata": {
    "collapsed": false
   }
  },
  {
   "cell_type": "markdown",
   "source": [
    "#### Let’s inspect the distribution of size company:"
   ],
   "metadata": {
    "collapsed": false
   }
  },
  {
   "cell_type": "code",
   "execution_count": 25,
   "outputs": [
    {
     "name": "stdout",
     "output_type": "stream",
     "text": [
      "is_Macro | Before matching\n"
     ]
    },
    {
     "data": {
      "text/plain": "Size_company  False  True\nConflict                 \nFalse          0.31  0.69\nTrue           0.38  0.62",
      "text/html": "<div>\n<style scoped>\n    .dataframe tbody tr th:only-of-type {\n        vertical-align: middle;\n    }\n\n    .dataframe tbody tr th {\n        vertical-align: top;\n    }\n\n    .dataframe thead th {\n        text-align: right;\n    }\n</style>\n<table border=\"1\" class=\"dataframe\">\n  <thead>\n    <tr style=\"text-align: right;\">\n      <th>Size_company</th>\n      <th>False</th>\n      <th>True</th>\n    </tr>\n    <tr>\n      <th>Conflict</th>\n      <th></th>\n      <th></th>\n    </tr>\n  </thead>\n  <tbody>\n    <tr>\n      <th>False</th>\n      <td>0.31</td>\n      <td>0.69</td>\n    </tr>\n    <tr>\n      <th>True</th>\n      <td>0.38</td>\n      <td>0.62</td>\n    </tr>\n  </tbody>\n</table>\n</div>"
     },
     "metadata": {},
     "output_type": "display_data"
    },
    {
     "name": "stdout",
     "output_type": "stream",
     "text": [
      "is_Macro | After matching\n"
     ]
    },
    {
     "data": {
      "text/plain": "Size_company  False  True\nConflict                 \nFalse          0.39  0.61\nTrue           0.38  0.62",
      "text/html": "<div>\n<style scoped>\n    .dataframe tbody tr th:only-of-type {\n        vertical-align: middle;\n    }\n\n    .dataframe tbody tr th {\n        vertical-align: top;\n    }\n\n    .dataframe thead th {\n        text-align: right;\n    }\n</style>\n<table border=\"1\" class=\"dataframe\">\n  <thead>\n    <tr style=\"text-align: right;\">\n      <th>Size_company</th>\n      <th>False</th>\n      <th>True</th>\n    </tr>\n    <tr>\n      <th>Conflict</th>\n      <th></th>\n      <th></th>\n    </tr>\n  </thead>\n  <tbody>\n    <tr>\n      <th>False</th>\n      <td>0.39</td>\n      <td>0.61</td>\n    </tr>\n    <tr>\n      <th>True</th>\n      <td>0.38</td>\n      <td>0.62</td>\n    </tr>\n  </tbody>\n</table>\n</div>"
     },
     "metadata": {},
     "output_type": "display_data"
    }
   ],
   "source": [
    "#Сравниваем показатели до мэтча и после мэтча\n",
    "print(f\"{'is_Macro'} | Before matching\")\n",
    "display(pd.crosstab(df[Conflict], df['Size_company'],\n",
    "                    normalize='index'))\n",
    "print(f\"{'is_Macro'} | After matching\")\n",
    "display(pd.crosstab(matched_df[Conflict], matched_df['Size_company'],\n",
    "                    normalize='index'))"
   ],
   "metadata": {
    "collapsed": false,
    "ExecuteTime": {
     "start_time": "2023-04-25T18:34:35.996458Z",
     "end_time": "2023-04-25T18:34:36.069593Z"
    }
   }
  },
  {
   "cell_type": "markdown",
   "source": [
    "#### Рисуем графики до и после мэтчинга по размеру компании"
   ],
   "metadata": {
    "collapsed": false
   }
  },
  {
   "cell_type": "code",
   "execution_count": 26,
   "outputs": [
    {
     "data": {
      "text/plain": "<Figure size 720x288 with 2 Axes>",
      "image/png": "[encoded data removed]"
     },
     "metadata": {},
     "output_type": "display_data"
    }
   ],
   "source": [
    "fig, ax = plt.subplots(1, 2, figsize=(10, 4))\n",
    "# Visualise original distribution\n",
    "sns.barplot(data=size_company, x=size_company.index.astype(str), y=\"All\",\n",
    "            color=M_COLOUR, label=M_LABEL, ax=ax[0])\n",
    "sns.barplot(data=size_company, x=size_company.index.astype(str), y='Macro',\n",
    "            color=F_COLOUR, label=F_LABEL, ax=ax[0])\n",
    "ax[0].legend(loc='center', bbox_to_anchor=(1.1, -0.3))\n",
    "ax[0].set_xlabel('')\n",
    "ax[0].set_ylabel('Percentage')\n",
    "ax[0].set_title('Before matching')\n",
    "# Visualise new distribution\n",
    "size_company_after = 100 * pd.crosstab(\n",
    "    matched_df[Conflict].replace({True: T_LABEL, False: C_LABEL}),\n",
    "    matched_df['Size_company'].replace({True: 'Macro', False: 'Micro'}),\n",
    "    normalize='index'\n",
    ")\n",
    "size_company_after['All'] = 100\n",
    "sns.barplot(data=size_company_after, x=size_company_after.index.astype(str),\n",
    "            y=\"All\", color=M_COLOUR, label=M_LABEL, ax=ax[1])\n",
    "sns.barplot(data=size_company_after, x=size_company_after.index.astype(str),\n",
    "            y='Macro', color=F_COLOUR, label=F_LABEL, ax=ax[1])\n",
    "ax[1].set_xlabel('')\n",
    "ax[1].set_title('After matching')\n",
    "ax[1].set_ylabel('');"
   ],
   "metadata": {
    "collapsed": false,
    "ExecuteTime": {
     "start_time": "2023-04-25T18:34:52.953199Z",
     "end_time": "2023-04-25T18:34:53.259845Z"
    }
   }
  },
  {
   "cell_type": "markdown",
   "source": [
    "#### Записываем мэтченные данные в файл"
   ],
   "metadata": {
    "collapsed": false
   }
  },
  {
   "cell_type": "code",
   "execution_count": 28,
   "outputs": [],
   "source": [
    "matched_df.rename(columns = {'T':'Time'}, inplace = True )#Переименовываем столбец T в Time\n",
    "matched_df.Size_company = matched_df.Size_company.replace({True: 1, False: 0})#Заменяем TRUE/FALSE на 1/0\n",
    "matched_df.Time = matched_df.Time.replace({True: 1, False: 0})#Заменяем TRUE/FALSE на 1/0\n",
    "matched_df.Conflict = matched_df.Conflict.replace({True: 1, False: 0})#Заменяем TRUE/FALSE на 1/0\n",
    "\n",
    "matched_df.to_csv (r'Data\\matched_df.csv', index= False )#Записали в csv файл\n"
   ],
   "metadata": {
    "collapsed": false,
    "ExecuteTime": {
     "start_time": "2023-04-25T18:35:02.289731Z",
     "end_time": "2023-04-25T18:35:02.316074Z"
    }
   }
  },
  {
   "cell_type": "code",
   "execution_count": null,
   "outputs": [],
   "source": [],
   "metadata": {
    "collapsed": false
   }
  }
 ],
 "metadata": {
  "kernelspec": {
   "display_name": "Python 3",
   "language": "python",
   "name": "python3"
  },
  "language_info": {
   "codemirror_mode": {
    "name": "ipython",
    "version": 2
   },
   "file_extension": ".py",
   "mimetype": "text/x-python",
   "name": "python",
   "nbconvert_exporter": "python",
   "pygments_lexer": "ipython2",
   "version": "2.7.6"
  }
 },
 "nbformat": 4,
 "nbformat_minor": 0
}
